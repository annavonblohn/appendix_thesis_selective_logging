{
 "cells": [
  {
   "cell_type": "markdown",
   "metadata": {},
   "source": [
    "Read AGB for Tapajos (Santarem): latitude = -2.75, longitude = -54.75"
   ]
  },
  {
   "cell_type": "code",
   "execution_count": 4,
   "metadata": {},
   "outputs": [
    {
     "name": "stdout",
     "output_type": "stream",
     "text": [
      "LPJmL-FIT: [[17.980873]]\n",
      "Carvalhais: [10.331609]\n"
     ]
    }
   ],
   "source": [
    "import xarray as xr\n",
    "\n",
    "# LPJmL-FIT\n",
    "firstyear = 1981\n",
    "lastyear = 2040\n",
    "\n",
    "path_model = '//clusterfs/biodiversity/annavo/LPJmL56Fit/tapajos_none_shuffle_leaftresh3_constc1996/output/agb.nc'\n",
    "ds_model = xr.open_dataset(path_model)\n",
    "ds_last30years = ds_model.sel(time=slice(firstyear, lastyear)) * 0.001  # from gC/m² to kgC/m²\n",
    "ds_mean_last30years = ds_last30years['AGB'].mean(dim='time')\n",
    "\n",
    "print('LPJmL-FIT: ' + str(ds_mean_last30years.values))\n",
    "\n",
    "# Saatchi et al 2011: Benchmark map of forest carbon stocks in tropical regions across three continents\n",
    "path_carvalhais_validation_data = '//clusterfs/biodiversity/bereswil/Validation/Carvalhais.cVeg.200.720.1.nc'\n",
    "ds_validation = xr.open_dataset(path_carvalhais_validation_data, decode_times=False)\n",
    "\n",
    "ds_longlat_filter = ds_validation.sel(longitude='-54.75', latitude='-2.75', method='nearest')\n",
    "ds_carvalhais_values_cVeg = ds_longlat_filter['cVeg'].values * 0.001 # kgC/m²\n",
    "print('Carvalhais: ' + str(ds_carvalhais_values_cVeg))\n",
    "\n"
   ]
  },
  {
   "cell_type": "markdown",
   "metadata": {},
   "source": [
    "Read AGB for Paracou (Guyaflux): latitude = 5.25, longitude = -52.75"
   ]
  },
  {
   "cell_type": "code",
   "execution_count": 3,
   "metadata": {},
   "outputs": [
    {
     "name": "stdout",
     "output_type": "stream",
     "text": [
      "LPJmL-FIT: [[19.129578]]\n",
      "Carvalhais: [11.870758]\n"
     ]
    }
   ],
   "source": [
    "import xarray as xr\n",
    "\n",
    "# LPJmL-FIT\n",
    "firstyear = 1981\n",
    "lastyear = 2040\n",
    "\n",
    "path_model = '//clusterfs/biodiversity/annavo/LPJmL56Fit/paracou_none_shuffle_leaftresh3_constc1996/output/agb.nc'\n",
    "ds_model = xr.open_dataset(path_model)\n",
    "ds_last30years = ds_model.sel(time=slice(firstyear, lastyear)) * 0.001  # from gC/m² to kgC/m²\n",
    "ds_mean_last30years = ds_last30years['AGB'].mean(dim='time')\n",
    "\n",
    "print('LPJmL-FIT: ' + str(ds_mean_last30years.values))\n",
    "\n",
    "# Saatchi et al 2011: Benchmark map of forest carbon stocks in tropical regions across three continents\n",
    "path_carvalhais_validation_data = '//clusterfs/biodiversity/bereswil/Validation/Carvalhais.cVeg.200.720.1.nc'\n",
    "ds_validation = xr.open_dataset(path_carvalhais_validation_data, decode_times=False)\n",
    "\n",
    "ds_longlat_filter = ds_validation.sel(longitude=-52.75, latitude=5.25, method='nearest')\n",
    "ds_carvalhais_values_cVeg = ds_longlat_filter['cVeg'].values * 0.001 # kgC/m²\n",
    "\n",
    "print('Carvalhais: ' + str(ds_carvalhais_values_cVeg))\n"
   ]
  }
 ],
 "metadata": {
  "kernelspec": {
   "display_name": "base",
   "language": "python",
   "name": "python3"
  },
  "language_info": {
   "codemirror_mode": {
    "name": "ipython",
    "version": 3
   },
   "file_extension": ".py",
   "mimetype": "text/x-python",
   "name": "python",
   "nbconvert_exporter": "python",
   "pygments_lexer": "ipython3",
   "version": "3.10.9"
  },
  "orig_nbformat": 4
 },
 "nbformat": 4,
 "nbformat_minor": 2
}
